{
  "nbformat": 4,
  "nbformat_minor": 0,
  "metadata": {
    "colab": {
      "provenance": []
    },
    "kernelspec": {
      "name": "python3",
      "display_name": "Python 3"
    },
    "language_info": {
      "name": "python"
    }
  },
  "cells": [
    {
      "cell_type": "code",
      "execution_count": null,
      "metadata": {
        "id": "n3dJsy-beraC"
      },
      "outputs": [],
      "source": []
    },
    {
      "cell_type": "code",
      "execution_count": null,
      "metadata": {
        "id": "w7M2fy3Re4aR"
      },
      "outputs": [],
      "source": [
        "import pandas as pd\n",
        "from sklearn.model_selection import train_test_split, GridSearchCV, cross_val_score\n",
        "from sklearn.ensemble import GradientBoostingRegressor, RandomForestRegressor, AdaBoostRegressor\n",
        "from xgboost import XGBRegressor\n",
        "from sklearn.metrics import mean_squared_error\n",
        "from sklearn.preprocessing import RobustScaler"
      ]
    },
    {
      "cell_type": "code",
      "source": [
        "import numpy as np"
      ],
      "metadata": {
        "id": "8aACKljGgVh7"
      },
      "execution_count": null,
      "outputs": []
    },
    {
      "cell_type": "code",
      "source": [
        "from sklearn.tree import DecisionTreeRegressor"
      ],
      "metadata": {
        "id": "hzOjgRfhe_aj"
      },
      "execution_count": null,
      "outputs": []
    },
    {
      "cell_type": "code",
      "source": [
        "from sklearn.model_selection import KFold"
      ],
      "metadata": {
        "id": "K-Fzj8yXfBWO"
      },
      "execution_count": null,
      "outputs": []
    },
    {
      "cell_type": "code",
      "source": [
        "from google.colab import drive\n",
        "drive.mount('/content/drive')"
      ],
      "metadata": {
        "colab": {
          "base_uri": "https://localhost:8080/"
        },
        "id": "IpoQg7trfL7Y",
        "outputId": "78643913-cef3-404d-86d5-fd54706d3aad"
      },
      "execution_count": null,
      "outputs": [
        {
          "output_type": "stream",
          "name": "stdout",
          "text": [
            "Mounted at /content/drive\n"
          ]
        }
      ]
    },
    {
      "cell_type": "code",
      "source": [
        "df = pd.read_csv('/content/drive/MyDrive/Colab Notebooks/ChampionStats2.csv')"
      ],
      "metadata": {
        "id": "CDJZBu7yfOMg"
      },
      "execution_count": null,
      "outputs": []
    },
    {
      "cell_type": "markdown",
      "source": [
        "This approach is for completely different table, this table is all about the champion stats for the last 2 weeks.\n",
        "\n",
        "The game developers updates the champion stats (damage, HP, attack speed, Ability Power, Ability stats etc) and buff/nerf (Strong/Weak) them based on a number of things.\n",
        "\n",
        "Our target is to predict the win% for any specific champion."
      ],
      "metadata": {
        "id": "UeYNbCc8SbUV"
      }
    },
    {
      "cell_type": "markdown",
      "source": [
        "for 1st approach we will use 'GP' (Games played) as Weighted Average.\n",
        "\n",
        "The idea is to account for the variability in the number of games played by weighting each statistic according to the number of games."
      ],
      "metadata": {
        "id": "THvHPXi8g3XB"
      }
    },
    {
      "cell_type": "markdown",
      "source": [
        "#Data Preprocessing"
      ],
      "metadata": {
        "id": "qlws0zQxTjFI"
      }
    },
    {
      "cell_type": "code",
      "source": [
        "champion_stats_cleaned = df.copy()"
      ],
      "metadata": {
        "id": "LPohtIyMfTSn"
      },
      "execution_count": null,
      "outputs": []
    },
    {
      "cell_type": "markdown",
      "source": [
        "datatype in the columns below are object, changing them into numeric"
      ],
      "metadata": {
        "id": "uh-cbPszTmK2"
      }
    },
    {
      "cell_type": "code",
      "source": [
        "columns_to_convert = ['KP', 'CS%P15', 'DMG%', 'GOLD%', 'W%']"
      ],
      "metadata": {
        "id": "JYOTDEgUfVYs"
      },
      "execution_count": null,
      "outputs": []
    },
    {
      "cell_type": "code",
      "source": [
        "for col in columns_to_convert:\n",
        "    champion_stats_cleaned[col] = pd.to_numeric(champion_stats_cleaned[col].str.rstrip('%'), errors='coerce') / 100.0"
      ],
      "metadata": {
        "id": "pXFigs37fX9C"
      },
      "execution_count": null,
      "outputs": []
    },
    {
      "cell_type": "code",
      "source": [
        "features = ['KDA', 'KP', 'GD10', 'XPD10', 'CSD10', 'CSPM', 'CS%P15', 'DPM', 'DMG%', 'GOLD%', 'WPM', 'WCPM']\n",
        "for col in features:\n",
        "    champion_stats_cleaned[col] = pd.to_numeric(champion_stats_cleaned[col], errors='coerce')"
      ],
      "metadata": {
        "id": "zzazM8dOfaIi"
      },
      "execution_count": null,
      "outputs": []
    },
    {
      "cell_type": "code",
      "source": [
        "champion_stats_cleaned['GP'] = pd.to_numeric(champion_stats_cleaned['GP'], errors='coerce')"
      ],
      "metadata": {
        "id": "_syAGydbfciy"
      },
      "execution_count": null,
      "outputs": []
    },
    {
      "cell_type": "code",
      "source": [
        "champion_stats_cleaned.dropna(inplace=True)"
      ],
      "metadata": {
        "id": "VRejEPUHfewA"
      },
      "execution_count": null,
      "outputs": []
    },
    {
      "cell_type": "code",
      "source": [
        "def weighted_average(group, weights_column, feature_columns):\n",
        "    weighted_stats = {}\n",
        "    for column in feature_columns:\n",
        "        weighted_stats[column] = np.average(group[column], weights=group[weights_column])\n",
        "    return pd.Series(weighted_stats, index=feature_columns)"
      ],
      "metadata": {
        "id": "PjjRpAZmfxQd"
      },
      "execution_count": null,
      "outputs": []
    },
    {
      "cell_type": "code",
      "source": [
        "grouped = champion_stats_cleaned.groupby('Champion', group_keys=False).apply(lambda x: weighted_average(x, 'GP', features + ['W%'])).reset_index()"
      ],
      "metadata": {
        "id": "-FQ0H1g99VA1"
      },
      "execution_count": null,
      "outputs": []
    },
    {
      "cell_type": "code",
      "source": [
        "grouped['GP'] = champion_stats_cleaned.groupby('Champion')['GP'].sum().values"
      ],
      "metadata": {
        "id": "Ea7ZBr-uf03C"
      },
      "execution_count": null,
      "outputs": []
    },
    {
      "cell_type": "code",
      "source": [
        "for col in features:\n",
        "    grouped[col] = grouped[col] / grouped['GP']"
      ],
      "metadata": {
        "id": "0SSok4qWgQZq"
      },
      "execution_count": null,
      "outputs": []
    },
    {
      "cell_type": "code",
      "source": [
        "X = grouped[features]\n",
        "y = grouped['W%']"
      ],
      "metadata": {
        "id": "VwC83PothdIl"
      },
      "execution_count": null,
      "outputs": []
    },
    {
      "cell_type": "markdown",
      "source": [
        "#Scaler"
      ],
      "metadata": {
        "id": "xp3beWcNhPKG"
      }
    },
    {
      "cell_type": "markdown",
      "source": [
        "Using robustScaler"
      ],
      "metadata": {
        "id": "G_ylG_uShShY"
      }
    },
    {
      "cell_type": "code",
      "source": [
        "scaler = RobustScaler()\n",
        "X_scaled = scaler.fit_transform(X)"
      ],
      "metadata": {
        "id": "OY1WnxzShkwI"
      },
      "execution_count": null,
      "outputs": []
    },
    {
      "cell_type": "markdown",
      "source": [
        "#Gridsearch"
      ],
      "metadata": {
        "id": "zUtapSaKhUy8"
      }
    },
    {
      "cell_type": "code",
      "source": [
        "models = {\n",
        "    'GradientBoostingRegressor': GradientBoostingRegressor(),\n",
        "    'RandomForestRegressor': RandomForestRegressor(),\n",
        "    'AdaBoostRegressor': AdaBoostRegressor(base_estimator=DecisionTreeRegressor()),\n",
        "    'XGBRegressor': XGBRegressor(),\n",
        "    'DecisionTreeRegressor': DecisionTreeRegressor()\n",
        "}"
      ],
      "metadata": {
        "id": "XcvlOCfdk0Ju"
      },
      "execution_count": null,
      "outputs": []
    },
    {
      "cell_type": "code",
      "source": [
        "param_grids = {\n",
        "    'GradientBoostingRegressor': {\n",
        "        'learning_rate': [0.01, 0.1, 0.2],\n",
        "        'max_depth': [3, 4, 5,6],\n",
        "        'n_estimators': [50, 100, 200]\n",
        "    },\n",
        "    'RandomForestRegressor': {\n",
        "        'max_depth': [3, 4, 5,6],\n",
        "        'n_estimators': [50, 100, 200]\n",
        "    },\n",
        "    'AdaBoostRegressor': {\n",
        "        'n_estimators': [50, 100, 200],\n",
        "        'learning_rate': [0.01, 0.1, 0.2]\n",
        "    },\n",
        "    'XGBRegressor': {\n",
        "        'learning_rate': [0.01, 0.1, 0.2],\n",
        "        'max_depth': [3, 4, 5,6],\n",
        "        'n_estimators': [50, 100, 200]\n",
        "    },\n",
        "    'DecisionTreeRegressor': {\n",
        "        'max_depth': [3, 4, 5,6],\n",
        "        'min_samples_split': [2, 5, 10],\n",
        "        'min_samples_leaf': [1, 2, 4]\n",
        "    }\n",
        "}"
      ],
      "metadata": {
        "id": "12O95PITk33P"
      },
      "execution_count": null,
      "outputs": []
    },
    {
      "cell_type": "code",
      "source": [
        "best_models = {}"
      ],
      "metadata": {
        "id": "MfhNDVmvlO2H"
      },
      "execution_count": null,
      "outputs": []
    },
    {
      "cell_type": "code",
      "source": [
        "for model_name in models.keys():\n",
        "    print(f\"Training {model_name}...\")\n",
        "    model = models[model_name]\n",
        "    param_grid = param_grids[model_name]\n",
        "    kf = KFold(n_splits=5, shuffle=True, random_state=42)\n",
        "    grid_search = GridSearchCV(estimator=model, param_grid=param_grid, cv=kf, scoring='neg_root_mean_squared_error', n_jobs=-1)\n",
        "    grid_search.fit(X_scaled, y)\n",
        "\n",
        "    best_params = grid_search.best_params_\n",
        "    best_score = -grid_search.best_score_\n",
        "    best_model = grid_search.best_estimator_\n",
        "\n",
        "    best_models[model_name] = {\n",
        "        'best_params': best_params,\n",
        "        'best_score': best_score,\n",
        "        'best_model': best_model\n",
        "    }\n",
        "\n",
        "    print(f\"Best Parameters for {model_name}: {best_params}\")\n",
        "    print(f\"Best RMSE for {model_name}: {best_score}\")"
      ],
      "metadata": {
        "colab": {
          "base_uri": "https://localhost:8080/"
        },
        "id": "perm5uZalRow",
        "outputId": "742d5292-3f53-45ed-fd54-b9c578fe1820"
      },
      "execution_count": null,
      "outputs": [
        {
          "output_type": "stream",
          "name": "stdout",
          "text": [
            "Training GradientBoostingRegressor...\n",
            "Best Parameters for GradientBoostingRegressor: {'learning_rate': 0.2, 'max_depth': 3, 'n_estimators': 200}\n",
            "Best RMSE for GradientBoostingRegressor: 0.10059718643944131\n",
            "Training RandomForestRegressor...\n",
            "Best Parameters for RandomForestRegressor: {'max_depth': 3, 'n_estimators': 100}\n",
            "Best RMSE for RandomForestRegressor: 0.10612540227462228\n",
            "Training AdaBoostRegressor...\n"
          ]
        },
        {
          "output_type": "stream",
          "name": "stderr",
          "text": [
            "/usr/local/lib/python3.10/dist-packages/sklearn/ensemble/_base.py:156: FutureWarning: `base_estimator` was renamed to `estimator` in version 1.2 and will be removed in 1.4.\n",
            "  warnings.warn(\n"
          ]
        },
        {
          "output_type": "stream",
          "name": "stdout",
          "text": [
            "Best Parameters for AdaBoostRegressor: {'learning_rate': 0.1, 'n_estimators': 100}\n",
            "Best RMSE for AdaBoostRegressor: 0.11614557963810605\n",
            "Training XGBRegressor...\n",
            "Best Parameters for XGBRegressor: {'learning_rate': 0.01, 'max_depth': 4, 'n_estimators': 200}\n",
            "Best RMSE for XGBRegressor: 0.09640847484713663\n",
            "Training DecisionTreeRegressor...\n",
            "Best Parameters for DecisionTreeRegressor: {'max_depth': 3, 'min_samples_leaf': 4, 'min_samples_split': 2}\n",
            "Best RMSE for DecisionTreeRegressor: 0.12034523087328797\n"
          ]
        }
      ]
    },
    {
      "cell_type": "code",
      "source": [
        "for model_name, model_info in best_models.items():\n",
        "    best_model = model_info['best_model']\n",
        "    rmse_scores = cross_val_score(best_model, X_scaled, y, cv=kf, scoring='neg_root_mean_squared_error')\n",
        "    rmse_scores = -rmse_scores  # Convert negative RMSE scores to positive\n",
        "    print(f\"Cross-Validation RMSE Scores for {model_name}: {rmse_scores}\")\n",
        "    print(f\"Mean RMSE for {model_name}: {rmse_scores.mean()}\")\n",
        "    print(f\"Standard Deviation of RMSE for {model_name}: {rmse_scores.std()}\")"
      ],
      "metadata": {
        "colab": {
          "base_uri": "https://localhost:8080/"
        },
        "id": "zfo9hjfNlYtk",
        "outputId": "9fc2f655-387e-4808-dca7-b62ff58ae955"
      },
      "execution_count": null,
      "outputs": [
        {
          "output_type": "stream",
          "name": "stdout",
          "text": [
            "Cross-Validation RMSE Scores for GradientBoostingRegressor: [0.13434312 0.12687351 0.06519249 0.13371226 0.08191567]\n",
            "Mean RMSE for GradientBoostingRegressor: 0.10840740828361381\n",
            "Standard Deviation of RMSE for GradientBoostingRegressor: 0.029063153856441835\n",
            "Cross-Validation RMSE Scores for RandomForestRegressor: [0.18367305 0.13019605 0.06792064 0.13122828 0.06482235]\n",
            "Mean RMSE for RandomForestRegressor: 0.1155680744428097\n",
            "Standard Deviation of RMSE for RandomForestRegressor: 0.04459353098344766\n"
          ]
        },
        {
          "output_type": "stream",
          "name": "stderr",
          "text": [
            "/usr/local/lib/python3.10/dist-packages/sklearn/ensemble/_base.py:156: FutureWarning: `base_estimator` was renamed to `estimator` in version 1.2 and will be removed in 1.4.\n",
            "  warnings.warn(\n",
            "/usr/local/lib/python3.10/dist-packages/sklearn/ensemble/_base.py:156: FutureWarning: `base_estimator` was renamed to `estimator` in version 1.2 and will be removed in 1.4.\n",
            "  warnings.warn(\n",
            "/usr/local/lib/python3.10/dist-packages/sklearn/ensemble/_base.py:156: FutureWarning: `base_estimator` was renamed to `estimator` in version 1.2 and will be removed in 1.4.\n",
            "  warnings.warn(\n",
            "/usr/local/lib/python3.10/dist-packages/sklearn/ensemble/_base.py:156: FutureWarning: `base_estimator` was renamed to `estimator` in version 1.2 and will be removed in 1.4.\n",
            "  warnings.warn(\n",
            "/usr/local/lib/python3.10/dist-packages/sklearn/ensemble/_base.py:156: FutureWarning: `base_estimator` was renamed to `estimator` in version 1.2 and will be removed in 1.4.\n",
            "  warnings.warn(\n"
          ]
        },
        {
          "output_type": "stream",
          "name": "stdout",
          "text": [
            "Cross-Validation RMSE Scores for AdaBoostRegressor: [0.21048364 0.16123554 0.05498536 0.13166155 0.10222959]\n",
            "Mean RMSE for AdaBoostRegressor: 0.13211913741636414\n",
            "Standard Deviation of RMSE for AdaBoostRegressor: 0.0525965309086866\n",
            "Cross-Validation RMSE Scores for XGBRegressor: [0.09861313 0.1420368  0.05595791 0.119061   0.06637353]\n",
            "Mean RMSE for XGBRegressor: 0.09640847484713663\n",
            "Standard Deviation of RMSE for XGBRegressor: 0.03205709790337392\n",
            "Cross-Validation RMSE Scores for DecisionTreeRegressor: [0.20870215 0.14150659 0.05912087 0.12616965 0.06622689]\n",
            "Mean RMSE for DecisionTreeRegressor: 0.12034523087328797\n",
            "Standard Deviation of RMSE for DecisionTreeRegressor: 0.05470994147314158\n"
          ]
        }
      ]
    },
    {
      "cell_type": "code",
      "source": [
        "param_grid_xgb = {\n",
        "    'learning_rate': [0.01, 0.05, 0.1, 0.2],\n",
        "    'max_depth': [3, 4, 5, 6],\n",
        "    'n_estimators': [50, 100, 200, 300],\n",
        "    'subsample': [0.7, 0.8, 0.9, 1.0],\n",
        "    'colsample_bytree': [0.7, 0.8, 0.9, 1.0]\n",
        "}"
      ],
      "metadata": {
        "id": "Yb7fIYk-mdFI"
      },
      "execution_count": null,
      "outputs": []
    },
    {
      "cell_type": "code",
      "source": [
        "kf = KFold(n_splits=5, shuffle=True, random_state=42)"
      ],
      "metadata": {
        "id": "i_pKkX6Xmrqp"
      },
      "execution_count": null,
      "outputs": []
    },
    {
      "cell_type": "code",
      "source": [
        "grid_search_xgb = GridSearchCV(estimator=XGBRegressor(), param_grid=param_grid_xgb, cv=kf, scoring='neg_root_mean_squared_error', n_jobs=-1)"
      ],
      "metadata": {
        "id": "WyUf2hwYmvk_"
      },
      "execution_count": null,
      "outputs": []
    },
    {
      "cell_type": "code",
      "source": [
        "grid_search_xgb.fit(X_scaled, y)"
      ],
      "metadata": {
        "colab": {
          "base_uri": "https://localhost:8080/",
          "height": 117
        },
        "id": "UZKBJOQzmx8P",
        "outputId": "650588b4-2cde-4f13-c19b-b3fb21736e00"
      },
      "execution_count": null,
      "outputs": [
        {
          "output_type": "execute_result",
          "data": {
            "text/plain": [
              "GridSearchCV(cv=KFold(n_splits=5, random_state=42, shuffle=True),\n",
              "             estimator=XGBRegressor(base_score=None, booster=None,\n",
              "                                    callbacks=None, colsample_bylevel=None,\n",
              "                                    colsample_bynode=None,\n",
              "                                    colsample_bytree=None, device=None,\n",
              "                                    early_stopping_rounds=None,\n",
              "                                    enable_categorical=False, eval_metric=None,\n",
              "                                    feature_types=None, gamma=None,\n",
              "                                    grow_policy=None, importance_type=None,\n",
              "                                    inte...\n",
              "                                    min_child_weight=None, missing=nan,\n",
              "                                    monotone_constraints=None,\n",
              "                                    multi_strategy=None, n_estimators=None,\n",
              "                                    n_jobs=None, num_parallel_tree=None,\n",
              "                                    random_state=None, ...),\n",
              "             n_jobs=-1,\n",
              "             param_grid={'colsample_bytree': [0.7, 0.8, 0.9, 1.0],\n",
              "                         'learning_rate': [0.01, 0.05, 0.1, 0.2],\n",
              "                         'max_depth': [3, 4, 5, 6],\n",
              "                         'n_estimators': [50, 100, 200, 300],\n",
              "                         'subsample': [0.7, 0.8, 0.9, 1.0]},\n",
              "             scoring='neg_root_mean_squared_error')"
            ],
            "text/html": [
              "<style>#sk-container-id-1 {color: black;}#sk-container-id-1 pre{padding: 0;}#sk-container-id-1 div.sk-toggleable {background-color: white;}#sk-container-id-1 label.sk-toggleable__label {cursor: pointer;display: block;width: 100%;margin-bottom: 0;padding: 0.3em;box-sizing: border-box;text-align: center;}#sk-container-id-1 label.sk-toggleable__label-arrow:before {content: \"▸\";float: left;margin-right: 0.25em;color: #696969;}#sk-container-id-1 label.sk-toggleable__label-arrow:hover:before {color: black;}#sk-container-id-1 div.sk-estimator:hover label.sk-toggleable__label-arrow:before {color: black;}#sk-container-id-1 div.sk-toggleable__content {max-height: 0;max-width: 0;overflow: hidden;text-align: left;background-color: #f0f8ff;}#sk-container-id-1 div.sk-toggleable__content pre {margin: 0.2em;color: black;border-radius: 0.25em;background-color: #f0f8ff;}#sk-container-id-1 input.sk-toggleable__control:checked~div.sk-toggleable__content {max-height: 200px;max-width: 100%;overflow: auto;}#sk-container-id-1 input.sk-toggleable__control:checked~label.sk-toggleable__label-arrow:before {content: \"▾\";}#sk-container-id-1 div.sk-estimator input.sk-toggleable__control:checked~label.sk-toggleable__label {background-color: #d4ebff;}#sk-container-id-1 div.sk-label input.sk-toggleable__control:checked~label.sk-toggleable__label {background-color: #d4ebff;}#sk-container-id-1 input.sk-hidden--visually {border: 0;clip: rect(1px 1px 1px 1px);clip: rect(1px, 1px, 1px, 1px);height: 1px;margin: -1px;overflow: hidden;padding: 0;position: absolute;width: 1px;}#sk-container-id-1 div.sk-estimator {font-family: monospace;background-color: #f0f8ff;border: 1px dotted black;border-radius: 0.25em;box-sizing: border-box;margin-bottom: 0.5em;}#sk-container-id-1 div.sk-estimator:hover {background-color: #d4ebff;}#sk-container-id-1 div.sk-parallel-item::after {content: \"\";width: 100%;border-bottom: 1px solid gray;flex-grow: 1;}#sk-container-id-1 div.sk-label:hover label.sk-toggleable__label {background-color: #d4ebff;}#sk-container-id-1 div.sk-serial::before {content: \"\";position: absolute;border-left: 1px solid gray;box-sizing: border-box;top: 0;bottom: 0;left: 50%;z-index: 0;}#sk-container-id-1 div.sk-serial {display: flex;flex-direction: column;align-items: center;background-color: white;padding-right: 0.2em;padding-left: 0.2em;position: relative;}#sk-container-id-1 div.sk-item {position: relative;z-index: 1;}#sk-container-id-1 div.sk-parallel {display: flex;align-items: stretch;justify-content: center;background-color: white;position: relative;}#sk-container-id-1 div.sk-item::before, #sk-container-id-1 div.sk-parallel-item::before {content: \"\";position: absolute;border-left: 1px solid gray;box-sizing: border-box;top: 0;bottom: 0;left: 50%;z-index: -1;}#sk-container-id-1 div.sk-parallel-item {display: flex;flex-direction: column;z-index: 1;position: relative;background-color: white;}#sk-container-id-1 div.sk-parallel-item:first-child::after {align-self: flex-end;width: 50%;}#sk-container-id-1 div.sk-parallel-item:last-child::after {align-self: flex-start;width: 50%;}#sk-container-id-1 div.sk-parallel-item:only-child::after {width: 0;}#sk-container-id-1 div.sk-dashed-wrapped {border: 1px dashed gray;margin: 0 0.4em 0.5em 0.4em;box-sizing: border-box;padding-bottom: 0.4em;background-color: white;}#sk-container-id-1 div.sk-label label {font-family: monospace;font-weight: bold;display: inline-block;line-height: 1.2em;}#sk-container-id-1 div.sk-label-container {text-align: center;}#sk-container-id-1 div.sk-container {/* jupyter's `normalize.less` sets `[hidden] { display: none; }` but bootstrap.min.css set `[hidden] { display: none !important; }` so we also need the `!important` here to be able to override the default hidden behavior on the sphinx rendered scikit-learn.org. See: https://github.com/scikit-learn/scikit-learn/issues/21755 */display: inline-block !important;position: relative;}#sk-container-id-1 div.sk-text-repr-fallback {display: none;}</style><div id=\"sk-container-id-1\" class=\"sk-top-container\"><div class=\"sk-text-repr-fallback\"><pre>GridSearchCV(cv=KFold(n_splits=5, random_state=42, shuffle=True),\n",
              "             estimator=XGBRegressor(base_score=None, booster=None,\n",
              "                                    callbacks=None, colsample_bylevel=None,\n",
              "                                    colsample_bynode=None,\n",
              "                                    colsample_bytree=None, device=None,\n",
              "                                    early_stopping_rounds=None,\n",
              "                                    enable_categorical=False, eval_metric=None,\n",
              "                                    feature_types=None, gamma=None,\n",
              "                                    grow_policy=None, importance_type=None,\n",
              "                                    inte...\n",
              "                                    min_child_weight=None, missing=nan,\n",
              "                                    monotone_constraints=None,\n",
              "                                    multi_strategy=None, n_estimators=None,\n",
              "                                    n_jobs=None, num_parallel_tree=None,\n",
              "                                    random_state=None, ...),\n",
              "             n_jobs=-1,\n",
              "             param_grid={&#x27;colsample_bytree&#x27;: [0.7, 0.8, 0.9, 1.0],\n",
              "                         &#x27;learning_rate&#x27;: [0.01, 0.05, 0.1, 0.2],\n",
              "                         &#x27;max_depth&#x27;: [3, 4, 5, 6],\n",
              "                         &#x27;n_estimators&#x27;: [50, 100, 200, 300],\n",
              "                         &#x27;subsample&#x27;: [0.7, 0.8, 0.9, 1.0]},\n",
              "             scoring=&#x27;neg_root_mean_squared_error&#x27;)</pre><b>In a Jupyter environment, please rerun this cell to show the HTML representation or trust the notebook. <br />On GitHub, the HTML representation is unable to render, please try loading this page with nbviewer.org.</b></div><div class=\"sk-container\" hidden><div class=\"sk-item sk-dashed-wrapped\"><div class=\"sk-label-container\"><div class=\"sk-label sk-toggleable\"><input class=\"sk-toggleable__control sk-hidden--visually\" id=\"sk-estimator-id-1\" type=\"checkbox\" ><label for=\"sk-estimator-id-1\" class=\"sk-toggleable__label sk-toggleable__label-arrow\">GridSearchCV</label><div class=\"sk-toggleable__content\"><pre>GridSearchCV(cv=KFold(n_splits=5, random_state=42, shuffle=True),\n",
              "             estimator=XGBRegressor(base_score=None, booster=None,\n",
              "                                    callbacks=None, colsample_bylevel=None,\n",
              "                                    colsample_bynode=None,\n",
              "                                    colsample_bytree=None, device=None,\n",
              "                                    early_stopping_rounds=None,\n",
              "                                    enable_categorical=False, eval_metric=None,\n",
              "                                    feature_types=None, gamma=None,\n",
              "                                    grow_policy=None, importance_type=None,\n",
              "                                    inte...\n",
              "                                    min_child_weight=None, missing=nan,\n",
              "                                    monotone_constraints=None,\n",
              "                                    multi_strategy=None, n_estimators=None,\n",
              "                                    n_jobs=None, num_parallel_tree=None,\n",
              "                                    random_state=None, ...),\n",
              "             n_jobs=-1,\n",
              "             param_grid={&#x27;colsample_bytree&#x27;: [0.7, 0.8, 0.9, 1.0],\n",
              "                         &#x27;learning_rate&#x27;: [0.01, 0.05, 0.1, 0.2],\n",
              "                         &#x27;max_depth&#x27;: [3, 4, 5, 6],\n",
              "                         &#x27;n_estimators&#x27;: [50, 100, 200, 300],\n",
              "                         &#x27;subsample&#x27;: [0.7, 0.8, 0.9, 1.0]},\n",
              "             scoring=&#x27;neg_root_mean_squared_error&#x27;)</pre></div></div></div><div class=\"sk-parallel\"><div class=\"sk-parallel-item\"><div class=\"sk-item\"><div class=\"sk-label-container\"><div class=\"sk-label sk-toggleable\"><input class=\"sk-toggleable__control sk-hidden--visually\" id=\"sk-estimator-id-2\" type=\"checkbox\" ><label for=\"sk-estimator-id-2\" class=\"sk-toggleable__label sk-toggleable__label-arrow\">estimator: XGBRegressor</label><div class=\"sk-toggleable__content\"><pre>XGBRegressor(base_score=None, booster=None, callbacks=None,\n",
              "             colsample_bylevel=None, colsample_bynode=None,\n",
              "             colsample_bytree=None, device=None, early_stopping_rounds=None,\n",
              "             enable_categorical=False, eval_metric=None, feature_types=None,\n",
              "             gamma=None, grow_policy=None, importance_type=None,\n",
              "             interaction_constraints=None, learning_rate=None, max_bin=None,\n",
              "             max_cat_threshold=None, max_cat_to_onehot=None,\n",
              "             max_delta_step=None, max_depth=None, max_leaves=None,\n",
              "             min_child_weight=None, missing=nan, monotone_constraints=None,\n",
              "             multi_strategy=None, n_estimators=None, n_jobs=None,\n",
              "             num_parallel_tree=None, random_state=None, ...)</pre></div></div></div><div class=\"sk-serial\"><div class=\"sk-item\"><div class=\"sk-estimator sk-toggleable\"><input class=\"sk-toggleable__control sk-hidden--visually\" id=\"sk-estimator-id-3\" type=\"checkbox\" ><label for=\"sk-estimator-id-3\" class=\"sk-toggleable__label sk-toggleable__label-arrow\">XGBRegressor</label><div class=\"sk-toggleable__content\"><pre>XGBRegressor(base_score=None, booster=None, callbacks=None,\n",
              "             colsample_bylevel=None, colsample_bynode=None,\n",
              "             colsample_bytree=None, device=None, early_stopping_rounds=None,\n",
              "             enable_categorical=False, eval_metric=None, feature_types=None,\n",
              "             gamma=None, grow_policy=None, importance_type=None,\n",
              "             interaction_constraints=None, learning_rate=None, max_bin=None,\n",
              "             max_cat_threshold=None, max_cat_to_onehot=None,\n",
              "             max_delta_step=None, max_depth=None, max_leaves=None,\n",
              "             min_child_weight=None, missing=nan, monotone_constraints=None,\n",
              "             multi_strategy=None, n_estimators=None, n_jobs=None,\n",
              "             num_parallel_tree=None, random_state=None, ...)</pre></div></div></div></div></div></div></div></div></div></div>"
            ]
          },
          "metadata": {},
          "execution_count": 27
        }
      ]
    },
    {
      "cell_type": "code",
      "source": [
        "best_params_xgb = grid_search_xgb.best_params_\n",
        "best_score_xgb = -grid_search_xgb.best_score_\n",
        "best_model_xgb = grid_search_xgb.best_estimator_"
      ],
      "metadata": {
        "id": "6t27MI3jm0F2"
      },
      "execution_count": null,
      "outputs": []
    },
    {
      "cell_type": "code",
      "source": [
        "print(f'Best Parameters for XGBRegressor after further tuning: {best_params_xgb}')\n",
        "print(f'Best RMSE for XGBRegressor after further tuning: {best_score_xgb}')"
      ],
      "metadata": {
        "colab": {
          "base_uri": "https://localhost:8080/"
        },
        "id": "S0HdDA8im5yQ",
        "outputId": "aa7a3e15-fd92-493b-be0e-9361abdde80f"
      },
      "execution_count": null,
      "outputs": [
        {
          "output_type": "stream",
          "name": "stdout",
          "text": [
            "Best Parameters for XGBRegressor after further tuning: {'colsample_bytree': 1.0, 'learning_rate': 0.05, 'max_depth': 4, 'n_estimators': 50, 'subsample': 1.0}\n",
            "Best RMSE for XGBRegressor after further tuning: 0.0954044318385116\n"
          ]
        }
      ]
    },
    {
      "cell_type": "markdown",
      "source": [
        "#Result"
      ],
      "metadata": {
        "id": "Ks-o6GcWhaIt"
      }
    },
    {
      "cell_type": "markdown",
      "source": [
        "Best Parameters for GradientBoostingRegressor: {'learning_rate': 0.2, 'max_depth': 3, 'n_estimators': 200}\n",
        "\n",
        "Best RMSE for GradientBoostingRegressor: 0.10059718643944131\n",
        "\n",
        "Best Parameters for RandomForestRegressor: {'max_depth': 3, 'n_estimators': 100}\n",
        "\n",
        "Best RMSE for RandomForestRegressor: 0.10612540227462228\n",
        "\n",
        "Best Parameters for AdaBoostRegressor: {'learning_rate': 0.1, 'n_estimators': 100}\n",
        "\n",
        "Best RMSE for AdaBoostRegressor: 0.11614557963810605\n",
        "\n",
        "Best Parameters for XGBRegressor: {'learning_rate': 0.01, 'max_depth': 4, 'n_estimators': 200}\n",
        "\n",
        "Best RMSE for XGBRegressor: 0.09640847484713663\n",
        "\n",
        "Best Parameters for DecisionTreeRegressor: {'max_depth': 3, 'min_samples_leaf': 4, 'min_samples_split': 2}\n",
        "\n",
        "Best RMSE for DecisionTreeRegressor: 0.12034523087328797"
      ],
      "metadata": {
        "id": "yASAwmx7-f6u"
      }
    },
    {
      "cell_type": "markdown",
      "source": [
        "Best Parameters for XGBRegressor after further tuning: {'colsample_bytree': 1.0, 'learning_rate': 0.05, 'max_depth': 4, 'n_estimators': 50, 'subsample': 1.0}\n",
        "\n",
        "Best RMSE for XGBRegressor after further tuning: 0.0954044318385116"
      ],
      "metadata": {
        "id": "zpU6HML0AMWz"
      }
    },
    {
      "cell_type": "code",
      "source": [],
      "metadata": {
        "id": "-LbiZGgurzJb"
      },
      "execution_count": null,
      "outputs": []
    }
  ]
}